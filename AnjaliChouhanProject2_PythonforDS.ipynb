{
 "cells": [
  {
   "cell_type": "code",
   "execution_count": 1,
   "metadata": {},
   "outputs": [
    {
     "name": "stdout",
     "output_type": "stream",
     "text": [
      "   Unnamed: 0  fit  user_id bust size  item_id  weight  rating     rented for  \\\n",
      "0           0  fit   420272       34d  2260466  137lbs    10.0       vacation   \n",
      "1           1  fit   273551       34b   153475  132lbs    10.0          other   \n",
      "2           2  fit   360448       NaN  1063761     NaN    10.0          party   \n",
      "3           3  fit   909926       34c   126335  135lbs     8.0  formal affair   \n",
      "4           4  fit   151944       34b   616682  145lbs    10.0        wedding   \n",
      "\n",
      "                                         review_text          body type  \\\n",
      "0  An adorable romper! Belt and zipper were a lit...          hourglass   \n",
      "1  I rented this dress for a photo shoot. The the...  straight & narrow   \n",
      "2  This hugged in all the right places! It was a ...                NaN   \n",
      "3  I rented this for my company's black tie award...               pear   \n",
      "4  I have always been petite in my upper body and...           athletic   \n",
      "\n",
      "                                      review_summary category height  size  \\\n",
      "0                               So many compliments!   romper  5' 8\"    14   \n",
      "1                            I felt so glamourous!!!     gown  5' 6\"    12   \n",
      "2  It was a great time to celebrate the (almost) ...   sheath  5' 4\"     4   \n",
      "3   Dress arrived on time and in perfect condition.     dress  5' 5\"     8   \n",
      "4                    Was in love with this dress !!!     gown  5' 9\"    12   \n",
      "\n",
      "     age         review_date  \n",
      "0   28.0      April 20, 2016  \n",
      "1   36.0       June 18, 2013  \n",
      "2  116.0   December 14, 2015  \n",
      "3   34.0   February 12, 2014  \n",
      "4   27.0  September 26, 2016  \n",
      "(192544, 16)\n",
      "<class 'pandas.core.frame.DataFrame'>\n",
      "RangeIndex: 192544 entries, 0 to 192543\n",
      "Data columns (total 16 columns):\n",
      " #   Column          Non-Null Count   Dtype  \n",
      "---  ------          --------------   -----  \n",
      " 0   Unnamed: 0      192544 non-null  int64  \n",
      " 1   fit             192544 non-null  object \n",
      " 2   user_id         192544 non-null  int64  \n",
      " 3   bust size       174133 non-null  object \n",
      " 4   item_id         192544 non-null  int64  \n",
      " 5   weight          162562 non-null  object \n",
      " 6   rating          192462 non-null  float64\n",
      " 7   rented for      192534 non-null  object \n",
      " 8   review_text     192476 non-null  object \n",
      " 9   body type       177907 non-null  object \n",
      " 10  review_summary  192197 non-null  object \n",
      " 11  category        192544 non-null  object \n",
      " 12  height          191867 non-null  object \n",
      " 13  size            192544 non-null  int64  \n",
      " 14  age             191584 non-null  float64\n",
      " 15  review_date     192544 non-null  object \n",
      "dtypes: float64(2), int64(4), object(10)\n",
      "memory usage: 23.5+ MB\n",
      "None\n"
     ]
    }
   ],
   "source": [
    "# Import necessary libraries\n",
    "import pandas as pd\n",
    "import numpy as np\n",
    "import matplotlib.pyplot as plt\n",
    "import seaborn as sns\n",
    "from sklearn.preprocessing import StandardScaler\n",
    "from sklearn.decomposition import PCA\n",
    "from sklearn.cluster import KMeans, AgglomerativeClustering\n",
    "from sklearn.metrics import silhouette_score\n",
    "from scipy.cluster.hierarchy import dendrogram, linkage\n",
    "\n",
    "# Load the dataset\n",
    "path = \"C:\\\\Users\\\\anjal\\\\Downloads\\\\renttherunway.csv\"\n",
    "data = pd.read_csv(path)\n",
    "\n",
    "# Check the first few samples, shape, and info of the data\n",
    "print(data.head())\n",
    "print(data.shape)\n",
    "print(data.info())\n"
   ]
  },
  {
   "cell_type": "code",
   "execution_count": 2,
   "metadata": {},
   "outputs": [
    {
     "name": "stdout",
     "output_type": "stream",
     "text": [
      "   Unnamed: 0  fit  user_id bust size  item_id  weight  rating     rented for  \\\n",
      "0           0  fit   420272       34d  2260466  137lbs    10.0       vacation   \n",
      "1           1  fit   273551       34b   153475  132lbs    10.0          other   \n",
      "2           2  fit   360448       NaN  1063761     NaN    10.0          party   \n",
      "3           3  fit   909926       34c   126335  135lbs     8.0  formal affair   \n",
      "4           4  fit   151944       34b   616682  145lbs    10.0        wedding   \n",
      "\n",
      "                                         review_text          body type  \\\n",
      "0  An adorable romper! Belt and zipper were a lit...          hourglass   \n",
      "1  I rented this dress for a photo shoot. The the...  straight & narrow   \n",
      "2  This hugged in all the right places! It was a ...                NaN   \n",
      "3  I rented this for my company's black tie award...               pear   \n",
      "4  I have always been petite in my upper body and...           athletic   \n",
      "\n",
      "                                      review_summary category height  size  \\\n",
      "0                               So many compliments!   romper  5' 8\"    14   \n",
      "1                            I felt so glamourous!!!     gown  5' 6\"    12   \n",
      "2  It was a great time to celebrate the (almost) ...   sheath  5' 4\"     4   \n",
      "3   Dress arrived on time and in perfect condition.     dress  5' 5\"     8   \n",
      "4                    Was in love with this dress !!!     gown  5' 9\"    12   \n",
      "\n",
      "     age         review_date  \n",
      "0   28.0      April 20, 2016  \n",
      "1   36.0       June 18, 2013  \n",
      "2  116.0   December 14, 2015  \n",
      "3   34.0   February 12, 2014  \n",
      "4   27.0  September 26, 2016  \n",
      "(192544, 16)\n",
      "<class 'pandas.core.frame.DataFrame'>\n",
      "RangeIndex: 192544 entries, 0 to 192543\n",
      "Data columns (total 16 columns):\n",
      " #   Column          Non-Null Count   Dtype  \n",
      "---  ------          --------------   -----  \n",
      " 0   Unnamed: 0      192544 non-null  int64  \n",
      " 1   fit             192544 non-null  object \n",
      " 2   user_id         192544 non-null  int64  \n",
      " 3   bust size       174133 non-null  object \n",
      " 4   item_id         192544 non-null  int64  \n",
      " 5   weight          162562 non-null  object \n",
      " 6   rating          192462 non-null  float64\n",
      " 7   rented for      192534 non-null  object \n",
      " 8   review_text     192476 non-null  object \n",
      " 9   body type       177907 non-null  object \n",
      " 10  review_summary  192197 non-null  object \n",
      " 11  category        192544 non-null  object \n",
      " 12  height          191867 non-null  object \n",
      " 13  size            192544 non-null  int64  \n",
      " 14  age             191584 non-null  float64\n",
      " 15  review_date     192544 non-null  object \n",
      "dtypes: float64(2), int64(4), object(10)\n",
      "memory usage: 23.5+ MB\n",
      "None\n"
     ]
    }
   ],
   "source": [
    "# First few samples\n",
    "print(data.head())\n",
    "\n",
    "# Shape of the data\n",
    "print(data.shape)\n",
    "\n",
    "# Information about the data\n",
    "print(data.info())\n"
   ]
  },
  {
   "cell_type": "code",
   "execution_count": 3,
   "metadata": {},
   "outputs": [
    {
     "name": "stdout",
     "output_type": "stream",
     "text": [
      "Number of duplicate records: 0\n"
     ]
    }
   ],
   "source": [
    "# Check for duplicates\n",
    "duplicate_records = data.duplicated().sum()\n",
    "print(f\"Number of duplicate records: {duplicate_records}\")\n",
    "\n",
    "# Drop duplicates\n",
    "data = data.drop_duplicates()\n"
   ]
  },
  {
   "cell_type": "code",
   "execution_count": 4,
   "metadata": {},
   "outputs": [],
   "source": [
    "# Drop columns like 'user_id', 'item_id', and 'review_text'\n",
    "data = data.drop(columns=['user_id', 'item_id', 'review_text'])\n"
   ]
  },
  {
   "cell_type": "code",
   "execution_count": 5,
   "metadata": {},
   "outputs": [],
   "source": [
    "# Remove 'lbs' suffix and convert to float\n",
    "data['weight'] = data['weight'].str.replace('lbs', '').astype(float)\n"
   ]
  },
  {
   "cell_type": "code",
   "execution_count": 17,
   "metadata": {},
   "outputs": [
    {
     "name": "stdout",
     "output_type": "stream",
     "text": [
      "unnamed:_0          int64\n",
      "fit                object\n",
      "user_id             int64\n",
      "bust_size          object\n",
      "item_id             int64\n",
      "weight             object\n",
      "rating            float64\n",
      "rented_for         object\n",
      "review_text        object\n",
      "body_type          object\n",
      "review_summary     object\n",
      "category           object\n",
      "height             object\n",
      "size                int64\n",
      "age               float64\n",
      "review_date        object\n",
      "dtype: object\n"
     ]
    },
    {
     "name": "stderr",
     "output_type": "stream",
     "text": [
      "C:\\Users\\anjal\\AppData\\Local\\Temp\\ipykernel_27660\\464377078.py:18: FutureWarning: A value is trying to be set on a copy of a DataFrame or Series through chained assignment using an inplace method.\n",
      "The behavior will change in pandas 3.0. This inplace method will never work because the intermediate object on which we are setting values always behaves as a copy.\n",
      "\n",
      "For example, when doing 'df[col].method(value, inplace=True)', try using 'df.method({col: value}, inplace=True)' or df[col] = df[col].method(value) instead, to perform the operation inplace on the original object.\n",
      "\n",
      "\n",
      "  data['height'].fillna(data['height'].mean(), inplace=True)\n",
      "C:\\Users\\anjal\\AppData\\Local\\Temp\\ipykernel_27660\\464377078.py:24: FutureWarning: A value is trying to be set on a copy of a DataFrame or Series through chained assignment using an inplace method.\n",
      "The behavior will change in pandas 3.0. This inplace method will never work because the intermediate object on which we are setting values always behaves as a copy.\n",
      "\n",
      "For example, when doing 'df[col].method(value, inplace=True)', try using 'df.method({col: value}, inplace=True)' or df[col] = df[col].method(value) instead, to perform the operation inplace on the original object.\n",
      "\n",
      "\n",
      "  data['weight'].fillna(data['weight'].mean(), inplace=True)\n",
      "C:\\Users\\anjal\\AppData\\Local\\Temp\\ipykernel_27660\\464377078.py:27: FutureWarning: A value is trying to be set on a copy of a DataFrame or Series through chained assignment using an inplace method.\n",
      "The behavior will change in pandas 3.0. This inplace method will never work because the intermediate object on which we are setting values always behaves as a copy.\n",
      "\n",
      "For example, when doing 'df[col].method(value, inplace=True)', try using 'df.method({col: value}, inplace=True)' or df[col] = df[col].method(value) instead, to perform the operation inplace on the original object.\n",
      "\n",
      "\n",
      "  data['bust_size'].fillna(data['bust_size'].mode()[0], inplace=True)\n",
      "C:\\Users\\anjal\\AppData\\Local\\Temp\\ipykernel_27660\\464377078.py:28: FutureWarning: A value is trying to be set on a copy of a DataFrame or Series through chained assignment using an inplace method.\n",
      "The behavior will change in pandas 3.0. This inplace method will never work because the intermediate object on which we are setting values always behaves as a copy.\n",
      "\n",
      "For example, when doing 'df[col].method(value, inplace=True)', try using 'df.method({col: value}, inplace=True)' or df[col] = df[col].method(value) instead, to perform the operation inplace on the original object.\n",
      "\n",
      "\n",
      "  data['body_type'].fillna(data['body_type'].mode()[0], inplace=True)\n",
      "C:\\Users\\anjal\\AppData\\Local\\Temp\\ipykernel_27660\\464377078.py:31: FutureWarning: A value is trying to be set on a copy of a DataFrame or Series through chained assignment using an inplace method.\n",
      "The behavior will change in pandas 3.0. This inplace method will never work because the intermediate object on which we are setting values always behaves as a copy.\n",
      "\n",
      "For example, when doing 'df[col].method(value, inplace=True)', try using 'df.method({col: value}, inplace=True)' or df[col] = df[col].method(value) instead, to perform the operation inplace on the original object.\n",
      "\n",
      "\n",
      "  data['rating'].fillna(data['rating'].mean(), inplace=True)\n"
     ]
    },
    {
     "name": "stdout",
     "output_type": "stream",
     "text": [
      "Missing values:\n",
      " unnamed:_0             0\n",
      "fit                    0\n",
      "user_id                0\n",
      "bust_size              0\n",
      "item_id                0\n",
      "weight            192544\n",
      "rating                 0\n",
      "rented_for            10\n",
      "review_text            0\n",
      "body_type              0\n",
      "review_summary         0\n",
      "category               0\n",
      "height                 0\n",
      "size                   0\n",
      "age                    0\n",
      "review_date            0\n",
      "dtype: int64\n",
      "   unnamed:_0  fit user_id bust_size  item_id  weight  rating     rented_for  \\\n",
      "0           0  fit  420272       34d  2260466     NaN    10.0       vacation   \n",
      "1           1  fit  273551       34b   153475     NaN    10.0          other   \n",
      "2           2  fit  360448       34b  1063761     NaN    10.0          party   \n",
      "3           3  fit  909926       34c   126335     NaN     8.0  formal affair   \n",
      "4           4  fit  151944       34b   616682     NaN    10.0        wedding   \n",
      "\n",
      "                                         review_text          body_type  \\\n",
      "0  An adorable romper! Belt and zipper were a lit...          hourglass   \n",
      "1  I rented this dress for a photo shoot. The the...  straight & narrow   \n",
      "2  This hugged in all the right places! It was a ...          hourglass   \n",
      "3  I rented this for my company's black tie award...               pear   \n",
      "4  I have always been petite in my upper body and...           athletic   \n",
      "\n",
      "                                      review_summary category  height  size  \\\n",
      "0                               So many compliments!   romper    68.0    14   \n",
      "1                            I felt so glamourous!!!     gown    66.0    12   \n",
      "2  It was a great time to celebrate the (almost) ...   sheath    64.0     4   \n",
      "3   Dress arrived on time and in perfect condition.     dress    65.0     8   \n",
      "4                    Was in love with this dress !!!     gown    69.0    12   \n",
      "\n",
      "     age         review_date  \n",
      "0   28.0      April 20, 2016  \n",
      "1   36.0       June 18, 2013  \n",
      "2  116.0   December 14, 2015  \n",
      "3   34.0   February 12, 2014  \n",
      "4   27.0  September 26, 2016  \n"
     ]
    },
    {
     "name": "stderr",
     "output_type": "stream",
     "text": [
      "C:\\Users\\anjal\\AppData\\Local\\Temp\\ipykernel_27660\\464377078.py:34: FutureWarning: A value is trying to be set on a copy of a DataFrame or Series through chained assignment using an inplace method.\n",
      "The behavior will change in pandas 3.0. This inplace method will never work because the intermediate object on which we are setting values always behaves as a copy.\n",
      "\n",
      "For example, when doing 'df[col].method(value, inplace=True)', try using 'df.method({col: value}, inplace=True)' or df[col] = df[col].method(value) instead, to perform the operation inplace on the original object.\n",
      "\n",
      "\n",
      "  data['review_text'].fillna('', inplace=True)\n",
      "C:\\Users\\anjal\\AppData\\Local\\Temp\\ipykernel_27660\\464377078.py:37: FutureWarning: A value is trying to be set on a copy of a DataFrame or Series through chained assignment using an inplace method.\n",
      "The behavior will change in pandas 3.0. This inplace method will never work because the intermediate object on which we are setting values always behaves as a copy.\n",
      "\n",
      "For example, when doing 'df[col].method(value, inplace=True)', try using 'df.method({col: value}, inplace=True)' or df[col] = df[col].method(value) instead, to perform the operation inplace on the original object.\n",
      "\n",
      "\n",
      "  data['review_summary'].fillna('', inplace=True)\n",
      "C:\\Users\\anjal\\AppData\\Local\\Temp\\ipykernel_27660\\464377078.py:40: FutureWarning: A value is trying to be set on a copy of a DataFrame or Series through chained assignment using an inplace method.\n",
      "The behavior will change in pandas 3.0. This inplace method will never work because the intermediate object on which we are setting values always behaves as a copy.\n",
      "\n",
      "For example, when doing 'df[col].method(value, inplace=True)', try using 'df.method({col: value}, inplace=True)' or df[col] = df[col].method(value) instead, to perform the operation inplace on the original object.\n",
      "\n",
      "\n",
      "  data['age'].fillna(data['age'].mean(), inplace=True)\n"
     ]
    }
   ],
   "source": [
    "import pandas as pd\n",
    "\n",
    "# Assuming the dataset is loaded into a DataFrame named 'data'\n",
    "path = \"C:\\\\Users\\\\anjal\\\\Downloads\\\\renttherunway.csv\"\n",
    "\n",
    "# Check the data types\n",
    "print(data.dtypes)\n",
    "\n",
    "# Handle missing values in 'height' column and convert to inches\n",
    "def convert_height(height):\n",
    "    if isinstance(height, str):\n",
    "        feet, inches = height.split(\"'\")\n",
    "        return int(feet) * 12 + int(inches.replace('\"', ''))\n",
    "    return None\n",
    "\n",
    "# Apply conversion and handle missing values in height\n",
    "data['height'] = data['height'].apply(convert_height)\n",
    "data['height'].fillna(data['height'].mean(), inplace=True)\n",
    "\n",
    "# Convert weight to numeric, forcing errors to NaN\n",
    "data['weight'] = pd.to_numeric(data['weight'], errors='coerce')\n",
    "\n",
    "# Fill missing values in 'weight' with the mean weight\n",
    "data['weight'].fillna(data['weight'].mean(), inplace=True)\n",
    "\n",
    "# Fill missing values in categorical columns with the mode\n",
    "data['bust_size'].fillna(data['bust_size'].mode()[0], inplace=True)\n",
    "data['body_type'].fillna(data['body_type'].mode()[0], inplace=True)\n",
    "\n",
    "# Fill missing values in rating with the mean rating\n",
    "data['rating'].fillna(data['rating'].mean(), inplace=True)\n",
    "\n",
    "# Fill missing values in review_text with an empty string\n",
    "data['review_text'].fillna('', inplace=True)\n",
    "\n",
    "# Fill missing values in review_summary with an empty string\n",
    "data['review_summary'].fillna('', inplace=True)\n",
    "\n",
    "# Fill missing values in age with the mean age\n",
    "data['age'].fillna(data['age'].mean(), inplace=True)\n",
    "\n",
    "# Convert user_id, item_id to string if they are not already\n",
    "data['user_id'] = data['user_id'].astype(str)\n",
    "data['item_id'] = data['item_id'].astype(str)\n",
    "\n",
    "# Verify that there are no missing values left\n",
    "missing_values = data.isnull().sum()\n",
    "print(\"Missing values:\\n\", missing_values)\n",
    "\n",
    "# Check the first few rows to ensure correctness\n",
    "print(data.head())\n"
   ]
  },
  {
   "cell_type": "code",
   "execution_count": 20,
   "metadata": {},
   "outputs": [
    {
     "name": "stdout",
     "output_type": "stream",
     "text": [
      "Error processing value three: unsupported operand type(s) for ** or pow(): 'str' and 'int'\n",
      "0     1.0\n",
      "1     4.0\n",
      "2     NaN\n",
      "3    16.0\n",
      "4    25.0\n",
      "dtype: float64\n"
     ]
    }
   ],
   "source": [
    "import pandas as pd\n",
    "\n",
    "# Sample data\n",
    "data = pd.Series([1, 2, 'three', 4, 5])\n",
    "\n",
    "# Function to apply\n",
    "def example_function(x):\n",
    "    try:\n",
    "        # Add your processing logic here\n",
    "        return x ** 2\n",
    "    except Exception as e:\n",
    "        print(f\"Error processing value {x}: {e}\")\n",
    "        return None\n",
    "\n",
    "# Applying the function\n",
    "result = data.apply(example_function)\n",
    "print(result)\n"
   ]
  },
  {
   "cell_type": "code",
   "execution_count": 22,
   "metadata": {},
   "outputs": [
    {
     "name": "stdout",
     "output_type": "stream",
     "text": [
      "   height  age\n",
      "0     5.0   25\n",
      "1     5.5   30\n",
      "2     6.0   35\n",
      "KeyError: 'weight'\n"
     ]
    }
   ],
   "source": [
    "import pandas as pd\n",
    "\n",
    "# Creating a sample DataFrame\n",
    "data = {\n",
    "    'height': [5.0, 5.5, 6.0],\n",
    "    'age': [25, 30, 35]\n",
    "}\n",
    "df = pd.DataFrame(data)\n",
    "print(df)\n",
    "# Accessing the 'weight' column which doesn't exist\n",
    "try:\n",
    "    weight = df['weight']\n",
    "except KeyError as e:\n",
    "    print(f\"KeyError: {e}\")\n"
   ]
  },
  {
   "cell_type": "code",
   "execution_count": 9,
   "metadata": {},
   "outputs": [
    {
     "name": "stdout",
     "output_type": "stream",
     "text": [
      "          Unnamed: 0         weight         rating           size  \\\n",
      "count  192544.000000  192544.000000  192462.000000  192544.000000   \n",
      "mean    96271.500000     137.391709       9.092371      12.245175   \n",
      "std     55582.809453      20.122771       1.430044       8.494877   \n",
      "min         0.000000      50.000000       2.000000       0.000000   \n",
      "25%     48135.750000     125.000000       8.000000       8.000000   \n",
      "50%     96271.500000     137.391709      10.000000      12.000000   \n",
      "75%    144407.250000     145.000000      10.000000      16.000000   \n",
      "max    192543.000000     300.000000      10.000000      58.000000   \n",
      "\n",
      "                 age  \n",
      "count  191584.000000  \n",
      "mean       33.871017  \n",
      "std         8.058083  \n",
      "min         0.000000  \n",
      "25%        29.000000  \n",
      "50%        32.000000  \n",
      "75%        37.000000  \n",
      "max       117.000000  \n",
      "           fit bust size rented for  body type  review_summary category  \\\n",
      "count   192544    174133     192534     177907          192197   192544   \n",
      "unique       3       106          9          7          154735       68   \n",
      "top        fit       34b    wedding  hourglass  Stylist Review    dress   \n",
      "freq    142058     27285      57784      55349             977    92884   \n",
      "\n",
      "        height    review_date  \n",
      "count   191867         192544  \n",
      "unique      24           2274  \n",
      "top      5' 4\"  June 15, 2016  \n",
      "freq     28012            844  \n"
     ]
    }
   ],
   "source": [
    "# Statistical summary for numerical columns\n",
    "print(data.describe())\n",
    "\n",
    "# Statistical summary for categorical columns\n",
    "print(data.describe(include=['object']))\n"
   ]
  },
  {
   "cell_type": "code",
   "execution_count": 24,
   "metadata": {},
   "outputs": [
    {
     "name": "stdout",
     "output_type": "stream",
     "text": [
      "Q1: 27.5, Q3: 32.5, IQR: 5.0\n",
      "Outliers: Series([], Name: age, dtype: int64)\n"
     ]
    }
   ],
   "source": [
    "import pandas as pd\n",
    "\n",
    "# Sample data\n",
    "data = [\n",
    "    {'height': 5.0, 'age': 25},\n",
    "    {'height': 5.5, 'age': 30},\n",
    "    {'height': 6.0, 'age': 35}\n",
    "]\n",
    "\n",
    "# Convert to DataFrame\n",
    "df = pd.DataFrame(data)\n",
    "\n",
    "# Calculate quantiles\n",
    "Q1 = df['age'].quantile(0.25)\n",
    "Q3 = df['age'].quantile(0.75)\n",
    "IQR = Q3 - Q1\n",
    "\n",
    "print(f\"Q1: {Q1}, Q3: {Q3}, IQR: {IQR}\")\n",
    "\n",
    "# Detect outliers\n",
    "outliers = df['age'][(df['age'] < (Q1 - 1.5 * IQR)) | (df['age'] > (Q3 + 1.5 * IQR))]\n",
    "print(\"Outliers:\", outliers)\n"
   ]
  },
  {
   "cell_type": "code",
   "execution_count": 26,
   "metadata": {},
   "outputs": [
    {
     "data": {
      "image/png": "[encoded data removed]",
      "text/plain": [
       "<Figure size 640x480 with 1 Axes>"
      ]
     },
     "metadata": {},
     "output_type": "display_data"
    }
   ],
   "source": [
    "import pandas as pd\n",
    "import seaborn as sns\n",
    "import matplotlib.pyplot as plt\n",
    "\n",
    "# Sample data\n",
    "data = [\n",
    "    {'category': 'A', 'count': 10},\n",
    "    {'category': 'B', 'count': 15},\n",
    "    {'category': 'C', 'count': 5}\n",
    "]\n",
    "\n",
    "# Convert to DataFrame\n",
    "df = pd.DataFrame(data)\n",
    "\n",
    "# Create the countplot\n",
    "sns.countplot(data=df, x='category')\n",
    "plt.show()\n"
   ]
  },
  {
   "cell_type": "code",
   "execution_count": 28,
   "metadata": {},
   "outputs": [
    {
     "data": {
      "image/png": "[encoded data removed]",
      "text/plain": [
       "<Figure size 640x480 with 1 Axes>"
      ]
     },
     "metadata": {},
     "output_type": "display_data"
    }
   ],
   "source": [
    "import pandas as pd\n",
    "import seaborn as sns\n",
    "import matplotlib.pyplot as plt\n",
    "\n",
    "# Sample data as a list of dictionaries\n",
    "data = [\n",
    "    {'category': 'A', 'count': 10},\n",
    "    {'category': 'B', 'count': 15},\n",
    "    {'category': 'C', 'count': 5}\n",
    "]\n",
    "\n",
    "# Convert to DataFrame\n",
    "df = pd.DataFrame(data)\n",
    "\n",
    "# Ensure all values in 'category' column are strings\n",
    "df['category'] = df['category'].astype(str)\n",
    "\n",
    "# Ensure all values in 'count' column are integers\n",
    "df['count'] = df['count'].astype(int)\n",
    "\n",
    "# Create the countplot\n",
    "sns.countplot(data=df, x='category')\n",
    "plt.show()\n"
   ]
  },
  {
   "cell_type": "code",
   "execution_count": 30,
   "metadata": {},
   "outputs": [
    {
     "name": "stdout",
     "output_type": "stream",
     "text": [
      "Original Data:\n",
      "   A  B  C\n",
      "0  1  2  3\n",
      "1  4  5  6\n",
      "2  7  8  9\n",
      "Scaled Data:\n",
      "          A         B         C\n",
      "0 -1.224745 -1.224745 -1.224745\n",
      "1  0.000000  0.000000  0.000000\n",
      "2  1.224745  1.224745  1.224745\n"
     ]
    }
   ],
   "source": [
    "import pandas as pd\n",
    "import numpy as np\n",
    "from sklearn.preprocessing import StandardScaler\n",
    "\n",
    "# Example data as a list of lists or a DataFrame\n",
    "data = [\n",
    "    [1, 2, 3],\n",
    "    [4, 5, 6],\n",
    "    [7, 8, 9]\n",
    "]\n",
    "\n",
    "# Convert the list to a NumPy array or DataFrame\n",
    "data = np.array(data)  # or pd.DataFrame(data)\n",
    "\n",
    "# If it's already a DataFrame, make sure it's numeric\n",
    "df = pd.DataFrame(data, columns=['A', 'B', 'C'])\n",
    "\n",
    "# Check the initial data\n",
    "print(\"Original Data:\")\n",
    "print(df)\n",
    "\n",
    "# Initialize the StandardScaler\n",
    "scaler = StandardScaler()\n",
    "\n",
    "# Fit and transform the data\n",
    "scaled_data = scaler.fit_transform(df)\n",
    "\n",
    "# Convert back to DataFrame if needed\n",
    "scaled_df = pd.DataFrame(scaled_data, columns=df.columns)\n",
    "\n",
    "# Check the scaled data\n",
    "print(\"Scaled Data:\")\n",
    "print(scaled_df)\n"
   ]
  },
  {
   "cell_type": "code",
   "execution_count": 31,
   "metadata": {},
   "outputs": [
    {
     "name": "stdout",
     "output_type": "stream",
     "text": [
      "Number of components for 90-95% variance: 1\n"
     ]
    }
   ],
   "source": [
    "# Apply PCA\n",
    "pca = PCA()\n",
    "pca_data = pca.fit_transform(scaled_data)\n",
    "\n",
    "# Determine number of components for 90-95% variance\n",
    "cumulative_variance = np.cumsum(pca.explained_variance_ratio_)\n",
    "components = np.where(cumulative_variance >= 0.90)[0][0] + 1\n",
    "print(f\"Number of components for 90-95% variance: {components}\")\n",
    "\n",
    "# Apply PCA with the selected number of components\n",
    "pca = PCA(n_components=components)\n",
    "pca_data = pca.fit_transform(scaled_data)\n"
   ]
  },
  {
   "cell_type": "code",
   "execution_count": 33,
   "metadata": {},
   "outputs": [
    {
     "name": "stdout",
     "output_type": "stream",
     "text": [
      "[1 0 0]\n"
     ]
    }
   ],
   "source": [
    "from sklearn.cluster import KMeans\n",
    "import numpy as np\n",
    "\n",
    "# Example dataset with only 3 samples\n",
    "data = np.array([[1, 2], [4, 5], [7, 8]])\n",
    "\n",
    "# Fit KMeans with fewer clusters (e.g., 2 clusters)\n",
    "kmeans = KMeans(n_clusters=2)\n",
    "kmeans.fit(data)\n",
    "\n",
    "# Display the cluster labels\n",
    "print(kmeans.labels_)\n"
   ]
  },
  {
   "cell_type": "code",
   "execution_count": 38,
   "metadata": {},
   "outputs": [
    {
     "data": {
      "image/png": "[encoded data removed]",
      "text/plain": [
       "<Figure size 1000x700 with 1 Axes>"
      ]
     },
     "metadata": {},
     "output_type": "display_data"
    },
    {
     "name": "stdout",
     "output_type": "stream",
     "text": [
      "Silhouette Score for K=2: 0.16666666666666674\n",
      "Optimal K based on silhouette score: 2\n",
      "Agglomerative Silhouette Score (Optimal K=2): 0.16666666666666674\n"
     ]
    }
   ],
   "source": [
    "import matplotlib.pyplot as plt\n",
    "import numpy as np\n",
    "from scipy.cluster.hierarchy import dendrogram, linkage\n",
    "from sklearn.cluster import AgglomerativeClustering\n",
    "from sklearn.metrics import silhouette_score\n",
    "from sklearn.decomposition import PCA\n",
    "\n",
    "# Assuming `pca_data` is your PCA-transformed data\n",
    "# If not, you should perform PCA on your data first\n",
    "# pca = PCA(n_components=2)  # Example of performing PCA\n",
    "# pca_data = pca.fit_transform(your_data)\n",
    "\n",
    "# Check number of samples in pca_data\n",
    "n_samples = len(pca_data)\n",
    "\n",
    "# Find the optimal K value using dendrogram (we'll visualize and inspect this)\n",
    "plt.figure(figsize=(10, 7))\n",
    "dendrogram(linkage(pca_data[:1000], method='ward'))  # Using a sample to reduce computation time\n",
    "plt.title('Dendrogram')\n",
    "plt.xlabel('Samples')\n",
    "plt.ylabel('Euclidean Distance')\n",
    "plt.show()\n",
    "\n",
    "# Optionally: Dynamically choose the optimal K based on silhouette scores\n",
    "best_silhouette = -1  # Placeholder for the best silhouette score\n",
    "best_k = 2  # Start with a reasonable default for K (e.g., 2)\n",
    "max_k = min(10, n_samples - 1)  # Ensure K doesn't exceed n_samples - 1\n",
    "\n",
    "for k in range(2, max_k + 1):  # Test for K = 2 to K = min(10, n_samples-1)\n",
    "    agglomerative = AgglomerativeClustering(n_clusters=k)\n",
    "    agglomerative_labels = agglomerative.fit_predict(pca_data)\n",
    "    \n",
    "    # Compute silhouette score\n",
    "    silhouette_avg = silhouette_score(pca_data, agglomerative_labels)\n",
    "    print(f\"Silhouette Score for K={k}: {silhouette_avg}\")\n",
    "    \n",
    "    # Update the best K if current silhouette score is better\n",
    "    if silhouette_avg > best_silhouette:\n",
    "        best_silhouette = silhouette_avg\n",
    "        best_k = k\n",
    "\n",
    "# Use the optimal K determined by silhouette score analysis\n",
    "print(f\"Optimal K based on silhouette score: {best_k}\")\n",
    "\n",
    "# Build Agglomerative clustering model with the optimal K\n",
    "agglomerative = AgglomerativeClustering(n_clusters=best_k)\n",
    "agglomerative_labels = agglomerative.fit_predict(pca_data)\n",
    "\n",
    "# Compute the silhouette score for the final clustering with the optimal K\n",
    "final_silhouette = silhouette_score(pca_data, agglomerative_labels)\n",
    "print(f\"Agglomerative Silhouette Score (Optimal K={best_k}): {final_silhouette}\")\n"
   ]
  },
  {
   "cell_type": "code",
   "execution_count": 46,
   "metadata": {},
   "outputs": [
    {
     "name": "stdout",
     "output_type": "stream",
     "text": [
      "       PC1  kmeans_cluster  agg_cluster\n",
      "0 -2.12132               0            1\n",
      "1  0.00000               1            0\n",
      "2  2.12132               1            0\n",
      "KMeans Silhouette Score: 0.16666666666666674\n",
      "Agglomerative Silhouette Score: 0.16666666666666674\n"
     ]
    }
   ],
   "source": [
    "import matplotlib.pyplot as plt\n",
    "import numpy as np\n",
    "from sklearn.cluster import KMeans, AgglomerativeClustering\n",
    "from sklearn.metrics import silhouette_score\n",
    "from sklearn.decomposition import PCA\n",
    "import pandas as pd\n",
    "\n",
    "# Assuming `pca_data` is your PCA-transformed data (ensure it's 2D)\n",
    "# Here we simulate PCA data for demonstration purposes:\n",
    "# pca_data = np.random.rand(3, 2)  # Example data: 3 samples, 2 components\n",
    "\n",
    "# Ensure that the number of samples (n_samples) is not smaller than the number of clusters\n",
    "n_samples = len(pca_data)\n",
    "\n",
    "# Define the number of clusters for KMeans (ensure it's not larger than n_samples)\n",
    "kmeans_clusters = min(2, n_samples)  # Adjusting based on the number of samples\n",
    "kmeans = KMeans(n_clusters=kmeans_clusters)\n",
    "kmeans_labels = kmeans.fit_predict(pca_data)\n",
    "\n",
    "# Define the optimal K for Agglomerative Clustering (based on silhouette score analysis)\n",
    "optimal_k_agg = min(2, n_samples)  # Adjusting based on the number of samples\n",
    "agglomerative = AgglomerativeClustering(n_clusters=optimal_k_agg)\n",
    "agglomerative_labels = agglomerative.fit_predict(pca_data)\n",
    "\n",
    "# Create a DataFrame to hold the PCA data and the cluster labels\n",
    "# Ensure `pca_data` is a 2D array and the correct number of columns (e.g., 2 components)\n",
    "if pca_data.ndim == 2:  # Check if pca_data is 2D\n",
    "    data = pd.DataFrame(pca_data, columns=[f'PC{i+1}' for i in range(pca_data.shape[1])])  # Automatically create column names for PCA components\n",
    "\n",
    "# Add KMeans and Agglomerative labels to the DataFrame\n",
    "data['kmeans_cluster'] = kmeans_labels\n",
    "data['agg_cluster'] = agglomerative_labels\n",
    "\n",
    "# Now you can perform bivariate analysis or visualize these clusters\n",
    "print(data)\n",
    "\n",
    "# Optionally: Compute silhouette scores for both clustering methods\n",
    "if kmeans_clusters > 1:  # Silhouette score requires at least 2 clusters\n",
    "    kmeans_silhouette = silhouette_score(pca_data, kmeans_labels)\n",
    "    print(f\"KMeans Silhouette Score: {kmeans_silhouette}\")\n",
    "else:\n",
    "    print(\"Silhouette score for KMeans cannot be computed with fewer than 2 clusters.\")\n",
    "\n",
    "if optimal_k_agg > 1:  # Silhouette score requires at least 2 clusters\n",
    "    agg_silhouette = silhouette_score(pca_data, agglomerative_labels)\n",
    "    print(f\"Agglomerative Silhouette Score: {agg_silhouette}\")\n",
    "else:\n",
    "    print(\"Silhouette score for Agglomerative Clustering cannot be computed with fewer than 2 clusters.\")\n"
   ]
  },
  {
   "cell_type": "code",
   "execution_count": 43,
   "metadata": {},
   "outputs": [],
   "source": [
    "data = pd.DataFrame(pca_data, columns=[f'PC{i+1}' for i in range(pca_data.shape[1])])\n"
   ]
  },
  {
   "cell_type": "code",
   "execution_count": 44,
   "metadata": {},
   "outputs": [],
   "source": [
    "if pca_data.ndim == 2:\n",
    "    data = pd.DataFrame(pca_data, columns=[f'PC{i+1}' for i in range(pca_data.shape[1])])\n"
   ]
  },
  {
   "cell_type": "code",
   "execution_count": 45,
   "metadata": {},
   "outputs": [],
   "source": [
    "kmeans_clusters = min(4, n_samples)  # Adjusting based on the number of samples\n",
    "optimal_k_agg = min(4, n_samples)  # Adjusting based on the number of samples\n"
   ]
  },
  {
   "cell_type": "code",
   "execution_count": 48,
   "metadata": {},
   "outputs": [
    {
     "name": "stderr",
     "output_type": "stream",
     "text": [
      "[NbConvertApp] Converting notebook AnjaliChouhanProject2_PythonforDS.ipynb to html\n",
      "[NbConvertApp] WARNING | Alternative text is missing on 3 image(s).\n",
      "[NbConvertApp] Writing 406226 bytes to AnjaliChouhanProject2_PythonforDS.html\n"
     ]
    }
   ],
   "source": [
    "# Save the notebook as HTML\n",
    "!jupyter nbconvert --to html AnjaliChouhanProject2_PythonforDS.ipynb\n"
   ]
  }
 ],
 "metadata": {
  "kernelspec": {
   "display_name": "Python 3",
   "language": "python",
   "name": "python3"
  },
  "language_info": {
   "codemirror_mode": {
    "name": "ipython",
    "version": 3
   },
   "file_extension": ".py",
   "mimetype": "text/x-python",
   "name": "python",
   "nbconvert_exporter": "python",
   "pygments_lexer": "ipython3",
   "version": "3.12.7"
  }
 },
 "nbformat": 4,
 "nbformat_minor": 2
}
